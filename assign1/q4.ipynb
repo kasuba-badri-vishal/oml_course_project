{
 "cells": [
  {
   "cell_type": "markdown",
   "id": "e2f61632-327b-424e-9f8c-3cf3da5ef1a1",
   "metadata": {},
   "source": [
    "### Imports"
   ]
  },
  {
   "cell_type": "code",
   "execution_count": 1,
   "id": "f343ad4b-2ee8-4a74-8d6b-0ed91c9a6db9",
   "metadata": {},
   "outputs": [],
   "source": [
    "import numpy as np\n",
    "import time\n",
    "import matplotlib.pyplot as plt\n",
    "import cvxpy as cp"
   ]
  },
  {
   "cell_type": "markdown",
   "id": "b2e19bb8-851e-4d5f-aff3-4d617865382b",
   "metadata": {},
   "source": [
    "### Generating the Random Dataset"
   ]
  },
  {
   "cell_type": "code",
   "execution_count": 2,
   "id": "4be0cbdd-f563-4313-b579-b19132fd057f",
   "metadata": {},
   "outputs": [
    {
     "name": "stdout",
     "output_type": "stream",
     "text": [
      "(10, 1)\n",
      "(100, 10)\n",
      "(100,)\n"
     ]
    }
   ],
   "source": [
    "# We first generate a random dataset with number of features (m = 10) and number of instances (n = 100)\n",
    "# We also generate a random label vector y \\in {-1,1}\n",
    "\n",
    "n = 100 # Number of instances\n",
    "m = 10  # Number of Features \n",
    "\n",
    "X = np.random.rand(n,m) \n",
    "y = np.random.rand(n) # n-dimensional vector\n",
    "ybin = [(int(yi >= 0.5) - int(yi < 0.5)) for yi in y]\n",
    "y = np.array(ybin)\n",
    "w = np.random.rand(m, 1) # m-dimensional vector\n",
    "print(w.shape)\n",
    "print(X.shape)\n",
    "print(y.shape)"
   ]
  },
  {
   "cell_type": "markdown",
   "id": "ccba3e42-57a5-4aef-8ce0-d9948f448083",
   "metadata": {},
   "source": [
    "# Simple Loop Code Function Implementations"
   ]
  },
  {
   "cell_type": "markdown",
   "id": "f30548d1-eb43-4936-bd30-bb63a1b96480",
   "metadata": {},
   "source": [
    "### Least Squares Implementation"
   ]
  },
  {
   "cell_type": "code",
   "execution_count": 3,
   "id": "b2a3acc2-6915-49ac-9cc6-b1db475a5a87",
   "metadata": {},
   "outputs": [],
   "source": [
    "def LeastSquaresNaive(w, X, y, lam):\n",
    "    # Computes the cost function for all the training samples\n",
    "    # where f is the function value and g is the gradient\n",
    "\n",
    "    f = 0\n",
    "\n",
    "    wx_dot_product = np.zeros((n,1))\n",
    "    for i in range(n):\n",
    "        for j in range(m):\n",
    "            wx_dot_product[i] += X[i][j]*w[j]\n",
    "\n",
    "    y_pred = wx_dot_product\n",
    "\n",
    "    for i in range(n):\n",
    "        f += (y[i] - y_pred[i])**2 \n",
    "\n",
    "    gradients = np.zeros((m,1))\n",
    "    for i in range(n):\n",
    "        error = -1*(y[i] - y_pred[i])\n",
    "        for j in range(m):\n",
    "            gradients[j] += 2*X[i][j]*error\n",
    "        \n",
    "    \n",
    "    g = gradients\n",
    "    return [f, g]     "
   ]
  },
  {
   "cell_type": "code",
   "execution_count": 4,
   "id": "1bcc4bcb-0936-4f0b-9617-8e98543c6364",
   "metadata": {},
   "outputs": [
    {
     "name": "stdout",
     "output_type": "stream",
     "text": [
      "Time Taken = 0.01447296142578125\n",
      "Function value = [700.39437512]\n",
      "Printing Gradient:\n",
      "[[246.08596573]\n",
      " [263.79144582]\n",
      " [264.50243635]\n",
      " [251.3987113 ]\n",
      " [239.06945284]\n",
      " [234.57569128]\n",
      " [246.53927256]\n",
      " [243.50372236]\n",
      " [242.71380947]\n",
      " [247.87591939]]\n"
     ]
    }
   ],
   "source": [
    "start = time.time()\n",
    "[f,g] = LeastSquaresNaive(w,X,y,1)\n",
    "end = time.time()\n",
    "print(\"Time Taken = \" + str(end - start))\n",
    "print(\"Function value = \" + str(f))\n",
    "print(\"Printing Gradient:\")\n",
    "print(g)"
   ]
  },
  {
   "cell_type": "markdown",
   "id": "b5b7f88c-cc18-4588-94ac-f992b51d7a54",
   "metadata": {},
   "source": [
    "### Hinge Loss Implementation"
   ]
  },
  {
   "cell_type": "code",
   "execution_count": 5,
   "id": "5110febc-2a76-4deb-b725-334446ef5b54",
   "metadata": {},
   "outputs": [],
   "source": [
    "def HingeLossNaive(w, X, y, lam):\n",
    "    # Computes the cost function for all the training samples\n",
    "    # where f is the function value and g is the gradient\n",
    "\n",
    "    loss = 0\n",
    "    grad = np.zeros_like(w)\n",
    "    \n",
    "    for i in range(n):\n",
    "        score = np.dot(X[i], w)\n",
    "        margin = 1 - y[i] * score\n",
    "        if margin > 0:\n",
    "            loss += margin\n",
    "            grad += -y[i] * X[i][:, np.newaxis]\n",
    "    \n",
    "    return loss, grad"
   ]
  },
  {
   "cell_type": "code",
   "execution_count": 6,
   "id": "8e59eb72-8805-4388-bc4b-5feaeda33cfe",
   "metadata": {},
   "outputs": [
    {
     "name": "stdout",
     "output_type": "stream",
     "text": [
      "Time Taken = 0.0018537044525146484\n",
      "Function value = [169.18997358]\n",
      "Printing Gradient:\n",
      "[[24.35699875]\n",
      " [28.35824296]\n",
      " [28.10514714]\n",
      " [27.1020723 ]\n",
      " [21.0561016 ]\n",
      " [24.10944253]\n",
      " [23.85134352]\n",
      " [25.73908041]\n",
      " [22.65900235]\n",
      " [24.73549558]]\n"
     ]
    }
   ],
   "source": [
    "start = time.time()\n",
    "[f,g] = HingeLossNaive(w,X,y,1)\n",
    "end = time.time()\n",
    "print(\"Time Taken = \" + str(end - start))\n",
    "print(\"Function value = \" + str(f))\n",
    "print(\"Printing Gradient:\")\n",
    "print(g)"
   ]
  },
  {
   "cell_type": "markdown",
   "id": "dffd5b7a-7a11-440b-9778-f0f6e806a617",
   "metadata": {},
   "source": [
    "### BinaryCrossEntropy Loss Function Implementation"
   ]
  },
  {
   "cell_type": "code",
   "execution_count": 7,
   "id": "e1985e70-f64b-4ce6-878c-814b458f2630",
   "metadata": {},
   "outputs": [],
   "source": [
    "def BCELoss(w, X, y, lam):\n",
    "    # Computes the cost function for all the training samples\n",
    "    # where f is the function value and g is the gradient\n",
    "\n",
    "    f = 0\n",
    "    g = np.zeros_like(w)\n",
    "    epsilon = 1e-5\n",
    "\n",
    "    for i in range(n):\n",
    "        z = np.dot(X[i], w)\n",
    "        y_pred = 1 / (1 + np.exp(-z))\n",
    "        f += -y[i] * np.log(y_pred + epsilon) - (1 - y[i]) * np.log(1 - y_pred + epsilon)\n",
    "\n",
    "        for j in range(len(w)):\n",
    "            g[j] += (y_pred - y[i]) * X[i][j]\n",
    "\n",
    "    return [f, g]    "
   ]
  },
  {
   "cell_type": "code",
   "execution_count": 8,
   "id": "aebc5d79-56f9-42d5-9a65-2f683b4e2743",
   "metadata": {},
   "outputs": [
    {
     "name": "stdout",
     "output_type": "stream",
     "text": [
      "Time Taken = 0.01504826545715332\n",
      "Function value = [246.11076198]\n",
      "Printing Gradient:\n",
      "[[44.49625684]\n",
      " [51.99796182]\n",
      " [51.73546058]\n",
      " [49.83973701]\n",
      " [38.69804917]\n",
      " [43.61676651]\n",
      " [43.77230221]\n",
      " [46.71879468]\n",
      " [41.57474206]\n",
      " [45.40612799]]\n"
     ]
    }
   ],
   "source": [
    "start = time.time()\n",
    "[f,g] = BCELoss(w,X,y,1)\n",
    "end = time.time()\n",
    "print(\"Time Taken = \" + str(end - start))\n",
    "print(\"Function value = \" + str(f))\n",
    "print(\"Printing Gradient:\")\n",
    "print(g)"
   ]
  },
  {
   "cell_type": "markdown",
   "id": "907db030-e696-4251-80c8-94da5fd4a065",
   "metadata": {},
   "source": [
    "## Scalability of the Naive losses Implementation code"
   ]
  },
  {
   "cell_type": "code",
   "execution_count": 21,
   "id": "9b72a993-247d-4792-8abf-0b6b9fa1706d",
   "metadata": {},
   "outputs": [
    {
     "name": "stdout",
     "output_type": "stream",
     "text": [
      "BCE Loss\n",
      "Time Taken = 3.783210277557373\n",
      "Function value = [1174.31841743]\n",
      "Printing Gradient:\n",
      "[[45.87503311]\n",
      " [51.53564551]\n",
      " [54.28228904]\n",
      " ...\n",
      " [59.20552889]\n",
      " [48.05943969]\n",
      " [49.48864175]]\n",
      "Least Square\n",
      "Time Taken = 4.774887800216675\n",
      "Function value = [6.10573224e+08]\n",
      "Printing Gradient:\n",
      "[[240155.74429839]\n",
      " [248933.31001235]\n",
      " [240545.93372712]\n",
      " ...\n",
      " [275145.17018308]\n",
      " [227013.28558881]\n",
      " [253412.0389239 ]]\n",
      "Hinge Loss\n",
      "Time Taken = 0.0030689239501953125\n",
      "Function value = [126047.22991726]\n",
      "Printing Gradient:\n",
      "[[22.93751656]\n",
      " [25.76782275]\n",
      " [27.14114452]\n",
      " ...\n",
      " [29.60276444]\n",
      " [24.02971984]\n",
      " [24.74432088]]\n"
     ]
    }
   ],
   "source": [
    "n = 100\n",
    "m = 10000\n",
    "\n",
    "X = np.random.rand(n,m)\n",
    "y = np.random.rand(n)\n",
    "ybin = [(int(yi >= 0.5) - int(yi < 0.5)) for yi in y]\n",
    "y = np.array(ybin)\n",
    "w = np.random.rand(m, 1)\n",
    "\n",
    "start = time.time()\n",
    "[f,g] = BCELoss(w,X,y,1)\n",
    "end = time.time()\n",
    "print(\"BCE Loss\")\n",
    "print(\"Time Taken = \" + str(end - start))\n",
    "print(\"Function value = \" + str(f))\n",
    "print(\"Printing Gradient:\")\n",
    "print(g)\n",
    "\n",
    "start = time.time()\n",
    "[f,g] = LeastSquaresNaive(w,X,y,1)\n",
    "end = time.time()\n",
    "print(\"Least Square\")\n",
    "print(\"Time Taken = \" + str(end - start))\n",
    "print(\"Function value = \" + str(f))\n",
    "print(\"Printing Gradient:\")\n",
    "print(g)\n",
    "\n",
    "start = time.time()\n",
    "[f,g] = HingeLossNaive(w,X,y,1)\n",
    "end = time.time()\n",
    "print(\"Hinge Loss\")\n",
    "print(\"Time Taken = \" + str(end - start))\n",
    "print(\"Function value = \" + str(f))\n",
    "print(\"Printing Gradient:\")\n",
    "print(g)"
   ]
  },
  {
   "cell_type": "markdown",
   "id": "d335164f-e5ac-4122-80b8-cd05feb1370d",
   "metadata": {},
   "source": [
    "# Vectorized Version Function Implementations"
   ]
  },
  {
   "cell_type": "markdown",
   "id": "2d9a7005-3d45-4a4a-a593-a989df6eb394",
   "metadata": {},
   "source": [
    "### LeastSquares Implementation"
   ]
  },
  {
   "cell_type": "code",
   "execution_count": 9,
   "id": "d0e14570-60fb-40b3-b5a3-6d46830d9d02",
   "metadata": {},
   "outputs": [],
   "source": [
    "def LeastSquaresVec(w, X, y, lam):\n",
    "    # Computes the cost function for all the training samples\n",
    "    # where f is the function value and g is the gradient\n",
    "\n",
    "    y = y.reshape((n,1))\n",
    "    y_pred = np.dot(X, w)\n",
    "    f = np.sum((y - y_pred)**2)\n",
    "    g = -2 * np.dot(X.T, (y - y_pred))\n",
    "    \n",
    "    return [f, g]     "
   ]
  },
  {
   "cell_type": "code",
   "execution_count": 10,
   "id": "61238751-6b42-4cbe-a916-c48c4dea2357",
   "metadata": {},
   "outputs": [
    {
     "name": "stdout",
     "output_type": "stream",
     "text": [
      "Time Taken = 0.0003132820129394531\n",
      "Function value = 700.3943751213081\n",
      "Printing Gradient:\n",
      "[[246.08596573]\n",
      " [263.79144582]\n",
      " [264.50243635]\n",
      " [251.3987113 ]\n",
      " [239.06945284]\n",
      " [234.57569128]\n",
      " [246.53927256]\n",
      " [243.50372236]\n",
      " [242.71380947]\n",
      " [247.87591939]]\n"
     ]
    }
   ],
   "source": [
    "start = time.time()\n",
    "[f,g] = LeastSquaresVec(w,X,y,1)\n",
    "end = time.time()\n",
    "print(\"Time Taken = \" + str(end - start))\n",
    "print(\"Function value = \" + str(f))\n",
    "print(\"Printing Gradient:\")\n",
    "print(g)"
   ]
  },
  {
   "cell_type": "markdown",
   "id": "9c71cd94-adaa-4310-8488-3e7684490a36",
   "metadata": {},
   "source": [
    "### Hinge Loss Implementation"
   ]
  },
  {
   "cell_type": "code",
   "execution_count": 11,
   "id": "1402d1d5-54bb-41e6-9a79-d8cdfe29b8da",
   "metadata": {},
   "outputs": [],
   "source": [
    "def HingeLossVec(w, X, y, lam):\n",
    "    # Computes the cost function for all the training samples\n",
    "    # where f is the function value and g is the gradient\n",
    "    y = y.reshape((n,1))\n",
    "    y_pred = X @ w\n",
    "    f = np.sum((1 >= y_pred * y) * (1 - y_pred*y))\n",
    "    g = - X.T @ ((1 >= y_pred * y) * y)\n",
    "    return [f, g]"
   ]
  },
  {
   "cell_type": "code",
   "execution_count": 12,
   "id": "de5ea2fc-32e7-41e7-99c1-8838936828c0",
   "metadata": {},
   "outputs": [
    {
     "name": "stdout",
     "output_type": "stream",
     "text": [
      "Time Taken = 0.0003972053527832031\n",
      "Function value = 169.1899735793913\n",
      "Printing Gradient:\n",
      "[[24.35699875]\n",
      " [28.35824296]\n",
      " [28.10514714]\n",
      " [27.1020723 ]\n",
      " [21.0561016 ]\n",
      " [24.10944253]\n",
      " [23.85134352]\n",
      " [25.73908041]\n",
      " [22.65900235]\n",
      " [24.73549558]]\n"
     ]
    }
   ],
   "source": [
    "start = time.time()\n",
    "[f,g] = HingeLossVec(w,X,y,1)\n",
    "end = time.time()\n",
    "print(\"Time Taken = \" + str(end - start))\n",
    "print(\"Function value = \" + str(f))\n",
    "print(\"Printing Gradient:\")\n",
    "print(g)"
   ]
  },
  {
   "cell_type": "markdown",
   "id": "0b9a1431-2477-4ede-856d-7675a50f0f84",
   "metadata": {},
   "source": [
    "### Binary Cross Entropy Loss Implementation"
   ]
  },
  {
   "cell_type": "code",
   "execution_count": 13,
   "id": "35094c23-d67d-4384-a1a1-704f5889a177",
   "metadata": {},
   "outputs": [],
   "source": [
    "def BCELossVec(w, X, y, lam):\n",
    "    # Computes the cost function for all the training samples\n",
    "    # where f is the function value and g is the gradient\n",
    "\n",
    "    y = y.reshape((100,1))\n",
    "    y_pred = 1 / (1 + np.exp(-np.dot(X, w)))\n",
    "    epsilon = 1e-5\n",
    "\n",
    "    f = (-1) * np.sum(y * np.log(y_pred+epsilon) + (1 - y) * np.log(1 - y_pred+epsilon))\n",
    "    g = np.dot(X.T, (y_pred - y))\n",
    "\n",
    "    return [f, g]     "
   ]
  },
  {
   "cell_type": "code",
   "execution_count": 14,
   "id": "c77dd4ef-fe8e-49b6-a08c-ec5c1bb5a16e",
   "metadata": {},
   "outputs": [
    {
     "name": "stdout",
     "output_type": "stream",
     "text": [
      "Time Taken = 0.00041413307189941406\n",
      "Function value = 246.1107619802254\n",
      "Printing Gradient:\n",
      "[[44.49625684]\n",
      " [51.99796182]\n",
      " [51.73546058]\n",
      " [49.83973701]\n",
      " [38.69804917]\n",
      " [43.61676651]\n",
      " [43.77230221]\n",
      " [46.71879468]\n",
      " [41.57474206]\n",
      " [45.40612799]]\n"
     ]
    }
   ],
   "source": [
    "start = time.time()\n",
    "[f,g] = BCELossVec(w,X,y,1)\n",
    "end = time.time()\n",
    "print(\"Time Taken = \" + str(end - start))\n",
    "print(\"Function value = \" + str(f))\n",
    "print(\"Printing Gradient:\")\n",
    "print(g)"
   ]
  },
  {
   "cell_type": "markdown",
   "id": "f9beb798-2a14-4524-b656-b1968dc03665",
   "metadata": {},
   "source": [
    "## Scalability of Vecorized Loss Function Implementations"
   ]
  },
  {
   "cell_type": "code",
   "execution_count": 22,
   "id": "87325bbf-573c-459a-850a-57fbf2f5ad05",
   "metadata": {},
   "outputs": [
    {
     "name": "stdout",
     "output_type": "stream",
     "text": [
      "BCE Loss\n",
      "Time Taken = 0.012525081634521484\n",
      "Function value = 990.1114499881398\n",
      "Printing Gradient:\n",
      "[[34.88522231]\n",
      " [46.97802992]\n",
      " [42.33309702]\n",
      " ...\n",
      " [33.42934925]\n",
      " [46.60699287]\n",
      " [51.79023552]]\n",
      "Least Square\n",
      "Time Taken = 0.018811702728271484\n",
      "Function value = 625547254.0325726\n",
      "Printing Gradient:\n",
      "[[223172.84302155]\n",
      " [248278.9218498 ]\n",
      " [249532.86981183]\n",
      " ...\n",
      " [235891.86801806]\n",
      " [259136.42645296]\n",
      " [266286.47460967]]\n",
      "Hinge Loss\n",
      "Time Taken = 0.030467510223388672\n",
      "Function value = 107469.8198738928\n",
      "Printing Gradient:\n",
      "[[17.44261115]\n",
      " [23.48901496]\n",
      " [21.16654851]\n",
      " ...\n",
      " [16.71467463]\n",
      " [23.30349644]\n",
      " [25.89511776]]\n"
     ]
    }
   ],
   "source": [
    "n = 100\n",
    "m = 10000\n",
    "\n",
    "X = np.random.rand(n,m)\n",
    "y = np.random.rand(n)\n",
    "ybin = [(int(yi >= 0.5) - int(yi < 0.5)) for yi in y]\n",
    "y = np.array(ybin)\n",
    "w = np.random.rand(m, 1)\n",
    "\n",
    "start = time.time()\n",
    "[f,g] = BCELossVec(w,X,y,1)\n",
    "end = time.time()\n",
    "print(\"BCE Loss\")\n",
    "print(\"Time Taken = \" + str(end - start))\n",
    "print(\"Function value = \" + str(f))\n",
    "print(\"Printing Gradient:\")\n",
    "print(g)\n",
    "\n",
    "start = time.time()\n",
    "[f,g] = LeastSquaresVec(w,X,y,1)\n",
    "end = time.time()\n",
    "print(\"Least Square\")\n",
    "print(\"Time Taken = \" + str(end - start))\n",
    "print(\"Function value = \" + str(f))\n",
    "print(\"Printing Gradient:\")\n",
    "print(g)\n",
    "\n",
    "start = time.time()\n",
    "[f,g] = HingeLossVec(w,X,y,1)\n",
    "end = time.time()\n",
    "print(\"Hinge Loss\")\n",
    "print(\"Time Taken = \" + str(end - start))\n",
    "print(\"Function value = \" + str(f))\n",
    "print(\"Printing Gradient:\")\n",
    "print(g)"
   ]
  },
  {
   "cell_type": "markdown",
   "id": "9d71c485-c1e5-4687-b71d-95bd6775cd91",
   "metadata": {},
   "source": [
    "# CVXPY version Function Implementations\n",
    "CVXPY is an open source Python-embedded modeling language for convex optimization problems. Link: https://www.cvxpy.org/"
   ]
  },
  {
   "cell_type": "markdown",
   "id": "7aca019a-4446-4c49-b9c1-afca3b67ac5b",
   "metadata": {},
   "source": [
    "### LeastSquares Implementation"
   ]
  },
  {
   "cell_type": "code",
   "execution_count": 15,
   "id": "b3588c8b-bf6e-4ea8-8172-81ca1dcd1097",
   "metadata": {},
   "outputs": [],
   "source": [
    "def LeastSquaresCVXPY(w, X, y, lam):\n",
    "    # Computes the cost function for all the training samples\n",
    "    # where f is the function value and g is the gradient\n",
    "    y = y.reshape((n,1))\n",
    "    expression = cp.sum_squares((X @ w) - y) \n",
    "    Problem = cp.Problem(cp.Minimize(expression))\n",
    "    f = expression.value\n",
    "    g = 2 * X.T @ ((X @ w) - y)\n",
    "    \n",
    "    result = Problem.solve()\n",
    "    \n",
    "    return [f, g]"
   ]
  },
  {
   "cell_type": "code",
   "execution_count": 16,
   "id": "bcf684a7-5761-43ad-9593-8b5f7713448b",
   "metadata": {},
   "outputs": [
    {
     "name": "stdout",
     "output_type": "stream",
     "text": [
      "Time Taken = 0.0009677410125732422\n",
      "Function value = 700.3943751213081\n",
      "Printing Gradient:\n",
      "[[246.08596573]\n",
      " [263.79144582]\n",
      " [264.50243635]\n",
      " [251.3987113 ]\n",
      " [239.06945284]\n",
      " [234.57569128]\n",
      " [246.53927256]\n",
      " [243.50372236]\n",
      " [242.71380947]\n",
      " [247.87591939]]\n"
     ]
    }
   ],
   "source": [
    "start = time.time()\n",
    "[f,g] = LeastSquaresCVXPY(w,X,y,1)\n",
    "end = time.time()\n",
    "print(\"Time Taken = \" + str(end - start))\n",
    "print(\"Function value = \" + str(f))\n",
    "print(\"Printing Gradient:\")\n",
    "print(g)"
   ]
  },
  {
   "cell_type": "code",
   "execution_count": 17,
   "id": "636a548e-fd8d-4092-af48-d84d4356d9cd",
   "metadata": {},
   "outputs": [],
   "source": [
    "def HingeLossCVXPY(w, X, y, lam):\n",
    "    # Computes the cost function for all the training samples\n",
    "    # where f is the function value and g is the gradient\n",
    "\n",
    "    y = y.reshape((n,1))\n",
    "    expression = cp.sum(cp.pos(1 - cp.multiply(y, X @ w)))\n",
    "    Problem = cp.Problem(cp.Minimize(expression))\n",
    "    f = expression.value\n",
    "    g = - X.T @ ((1 >= (X @ w) * y) * y)\n",
    "    \n",
    "    result = Problem.solve()\n",
    "    return [f, g]"
   ]
  },
  {
   "cell_type": "code",
   "execution_count": 18,
   "id": "d10030ba-93a9-4f23-b03c-d83aeca5921f",
   "metadata": {
    "scrolled": true
   },
   "outputs": [
    {
     "name": "stdout",
     "output_type": "stream",
     "text": [
      "Time Taken = 0.003190755844116211\n",
      "Function value = 169.1899735793913\n",
      "Printing Gradient:\n",
      "[[24.35699875]\n",
      " [28.35824296]\n",
      " [28.10514714]\n",
      " [27.1020723 ]\n",
      " [21.0561016 ]\n",
      " [24.10944253]\n",
      " [23.85134352]\n",
      " [25.73908041]\n",
      " [22.65900235]\n",
      " [24.73549558]]\n"
     ]
    }
   ],
   "source": [
    "start = time.time()\n",
    "[f,g] = HingeLossCVXPY(w,X,y,1)\n",
    "end = time.time()\n",
    "print(\"Time Taken = \" + str(end - start))\n",
    "print(\"Function value = \" + str(f))\n",
    "print(\"Printing Gradient:\")\n",
    "print(g)"
   ]
  },
  {
   "cell_type": "markdown",
   "id": "a7cfe637-8612-4c59-9509-ab02445b538d",
   "metadata": {},
   "source": [
    "### Binary Cross Entropy Loss Function Implementation"
   ]
  },
  {
   "cell_type": "code",
   "execution_count": 19,
   "id": "ce8d4858-fe0c-43fc-bdd1-660698615b1e",
   "metadata": {},
   "outputs": [],
   "source": [
    "def BCELossCVXPY(w, X, y, lam):\n",
    "    # Computes the cost function for all the training samples\n",
    "    # where f is the function value and g is the gradient\n",
    "\n",
    "    y = y.reshape((n,1))\n",
    "    y_pred = 1 / (1 + np.exp(-np.dot(X, w)))\n",
    "    epsilon = 1e-5\n",
    "\n",
    "    expression = -1 * (cp.sum(cp.multiply(y, cp.log(y_pred+epsilon))) +  cp.sum(cp.multiply((1-y), cp.log(1-y_pred+epsilon))))\n",
    "    Problem = cp.Problem(cp.Minimize(expression))\n",
    "    f = expression.value\n",
    "    g = np.dot(X.T, (y_pred - y))\n",
    "    result = Problem.solve()\n",
    "    \n",
    "    return [f, g]"
   ]
  },
  {
   "cell_type": "code",
   "execution_count": 20,
   "id": "e12f5e07-2090-4fa9-a5e3-64c9b7bc24f2",
   "metadata": {},
   "outputs": [
    {
     "name": "stdout",
     "output_type": "stream",
     "text": [
      "Time Taken = 0.002610921859741211\n",
      "Function value = 246.11076198022542\n",
      "Printing Gradient:\n",
      "[[44.49625684]\n",
      " [51.99796182]\n",
      " [51.73546058]\n",
      " [49.83973701]\n",
      " [38.69804917]\n",
      " [43.61676651]\n",
      " [43.77230221]\n",
      " [46.71879468]\n",
      " [41.57474206]\n",
      " [45.40612799]]\n"
     ]
    }
   ],
   "source": [
    "start = time.time()\n",
    "[f,g] = BCELossCVXPY(w,X,y,1)\n",
    "end = time.time()\n",
    "print(\"Time Taken = \" + str(end - start))\n",
    "print(\"Function value = \" + str(f))\n",
    "print(\"Printing Gradient:\")\n",
    "print(g)"
   ]
  },
  {
   "cell_type": "markdown",
   "id": "638b3d86-bcd0-43de-82da-33d225272b16",
   "metadata": {},
   "source": [
    "## Scalability of CVXPY based Loss function implementations"
   ]
  },
  {
   "cell_type": "code",
   "execution_count": 23,
   "id": "5016b143-4b5a-4068-a9b0-1b59c19ba333",
   "metadata": {},
   "outputs": [
    {
     "name": "stdout",
     "output_type": "stream",
     "text": [
      "Time Taken = 0.0023767948150634766\n",
      "Function value Naive = 360.2825810183647\n",
      "Printing Gradient Naive:\n",
      "[[54.16859004]\n",
      " [50.05754674]\n",
      " [57.33258681]\n",
      " [60.04748361]\n",
      " [56.03230846]\n",
      " [63.96894559]\n",
      " [55.37796106]\n",
      " [57.10077268]\n",
      " [49.14334157]\n",
      " [56.43406557]]\n",
      "Time Taken = 0.0006554126739501953\n",
      "Function value For = 1178.2021799915833\n",
      "Printing Gradient For:\n",
      "[[334.10641673]\n",
      " [313.68187155]\n",
      " [341.73273745]\n",
      " [360.80503111]\n",
      " [343.65603772]\n",
      " [384.38880223]\n",
      " [347.64326882]\n",
      " [337.60304982]\n",
      " [299.61982783]\n",
      " [331.33122162]]\n",
      "Time Taken = 0.0012655258178710938\n",
      "Function value For = 233.50455569266032\n",
      "Printing Gradient For:\n",
      "[[28.20992345]\n",
      " [26.23090543]\n",
      " [29.8494993 ]\n",
      " [31.19087368]\n",
      " [29.26032362]\n",
      " [33.25945864]\n",
      " [28.86294694]\n",
      " [29.62195518]\n",
      " [25.69554342]\n",
      " [29.55399358]]\n"
     ]
    }
   ],
   "source": [
    "n = 100\n",
    "m = 10\n",
    "\n",
    "X = np.random.rand(n,m)\n",
    "y = np.random.rand(n)\n",
    "ybin = [(int(yi >= 0.5) - int(yi < 0.5)) for yi in y]\n",
    "y = np.array(ybin)\n",
    "w = np.random.rand(m, 1)\n",
    "\n",
    "start = time.time()\n",
    "[f1,g1] = BCELossCVXPY(w,X,y,1)\n",
    "end = time.time()\n",
    "print(\"Time Taken = \" + str(end - start))\n",
    "print(\"Function value Naive = \" + str(f1))\n",
    "print(\"Printing Gradient Naive:\")\n",
    "print(g1)\n",
    "\n",
    "start = time.time()\n",
    "[f2,g2] = LeastSquaresCVXPY(w,X,y,1)\n",
    "end = time.time()\n",
    "print(\"Time Taken = \" + str(end - start))\n",
    "print(\"Function value For = \" + str(f2))\n",
    "print(\"Printing Gradient For:\")\n",
    "print(g2)\n",
    "\n",
    "start = time.time()\n",
    "[f2,g2] = HingeLossCVXPY(w,X,y,1)\n",
    "end = time.time()\n",
    "print(\"Time Taken = \" + str(end - start))\n",
    "print(\"Function value For = \" + str(f2))\n",
    "print(\"Printing Gradient For:\")\n",
    "print(g2)"
   ]
  },
  {
   "cell_type": "markdown",
   "id": "a4743421-8a9b-4a38-b5c1-1495ee197fdb",
   "metadata": {},
   "source": [
    "# Compare the losses with Graph"
   ]
  },
  {
   "cell_type": "markdown",
   "id": "8cc206f6-4668-4dcb-9240-f8b99d9939bc",
   "metadata": {},
   "source": [
    "Assumed that graph of various times is required for different losses from various methods. Since losses remain the same for various methods like naive, vectorized and cvxpy for different functions"
   ]
  },
  {
   "cell_type": "code",
   "execution_count": 24,
   "id": "f5df7118-bbf0-4ff9-8e97-17943dbdc26f",
   "metadata": {},
   "outputs": [],
   "source": [
    "def BCELossFun(w, X, y, lam):\n",
    "    error_ll = []\n",
    "    start = time.time()\n",
    "    [f1,g1] = BCELoss(w,X,y,1)\n",
    "    end = time.time()\n",
    "    error_ll.append(end-start)\n",
    "    start = time.time()\n",
    "    [f1,g1] = BCELossVec(w,X,y,1)\n",
    "    end = time.time()\n",
    "    error_ll.append(end-start)\n",
    "    start = time.time()\n",
    "    [f1,g1] = BCELossCVXPY(w,X,y,1)\n",
    "    end = time.time()\n",
    "    error_ll.append(end-start)\n",
    "    return error_ll\n",
    "\n",
    "def LeastSquaresFun(w, X, y, lam):\n",
    "    error_ll = []\n",
    "    start = time.time()\n",
    "    [f1,g1] = LeastSquaresNaive(w,X,y,1)\n",
    "    end = time.time()\n",
    "    error_ll.append(end-start)\n",
    "    start = time.time()\n",
    "    [f1,g1] = LeastSquaresVec(w,X,y,1)\n",
    "    end = time.time()\n",
    "    error_ll.append(end-start)\n",
    "    start = time.time()\n",
    "    [f1,g1] = LeastSquaresCVXPY(w,X,y,1)\n",
    "    end = time.time()\n",
    "    error_ll.append(end-start)\n",
    "    return error_ll\n",
    "\n",
    "def HingeLossFun(w, X, y, lam):\n",
    "    error_ll = []\n",
    "    start = time.time()\n",
    "    [f1,g1] = HingeLossNaive(w,X,y,1)\n",
    "    end = time.time()\n",
    "    error_ll.append(end-start)\n",
    "    start = time.time()\n",
    "    [f1,g1] = HingeLossVec(w,X,y,1)\n",
    "    end = time.time()\n",
    "    error_ll.append(end-start)\n",
    "    start = time.time()\n",
    "    [f1,g1] = HingeLossCVXPY(w,X,y,1)\n",
    "    end = time.time()\n",
    "    error_ll.append(end-start)\n",
    "    return error_ll\n",
    "\n",
    "def plot_errors(error_ll, error_ls, error_hl, num):\n",
    "    plt.title('Plot of Losses vs times taken for various methods')\n",
    "    plt.plot(num, error_ll, label=\"BCE Loss\")\n",
    "    plt.plot(num, error_ls, label=\"Least Squares\")\n",
    "    plt.plot(num, error_hl, label=\"Hinge Loss\")\n",
    "    plt.legend()\n",
    "    plt.show()\n",
    "    return"
   ]
  },
  {
   "cell_type": "code",
   "execution_count": 25,
   "id": "885240a2-04af-43d2-85f6-fc84a53b267c",
   "metadata": {},
   "outputs": [
    {
     "name": "stdout",
     "output_type": "stream",
     "text": [
      "various times of loss functions executions\n",
      "BCE Loss: [6.837799072265625, 0.057822227478027344, 0.037720680236816406]\n",
      "LS Loss: [9.081407070159912, 0.041094303131103516, 0.10141181945800781]\n",
      "hinge loss: [0.004794120788574219, 0.016962528228759766, 0.04466080665588379]\n"
     ]
    },
    {
     "data": {
      "image/png": "[encoded data removed]",
      "text/plain": [
       "<Figure size 640x480 with 1 Axes>"
      ]
     },
     "metadata": {},
     "output_type": "display_data"
    }
   ],
   "source": [
    "n = 100\n",
    "m = 10000\n",
    "\n",
    "X = np.random.rand(n,m)\n",
    "y = np.random.rand(n)\n",
    "ybin = [(int(yi >= 0.5) - int(yi < 0.5)) for yi in y]\n",
    "y = np.array(ybin)\n",
    "w = np.random.rand(m, 1)\n",
    "\n",
    "error_ll = BCELossFun(w,X,y,1)\n",
    "error_ls = LeastSquaresFun(w,X,y,1)\n",
    "error_hl = HingeLossFun(w,X,y,1)\n",
    "\n",
    "print(\"various times of loss functions executions\")\n",
    "print(\"BCE Loss:\", error_ll)\n",
    "print(\"LS Loss:\", error_ls)\n",
    "print(\"hinge loss:\", error_hl)\n",
    "plot_errors(error_ll, error_ls, error_hl, ['naive','vector', 'cvxpy'])"
   ]
  },
  {
   "cell_type": "code",
   "execution_count": null,
   "id": "ca40edab-2c30-433a-891f-825f34502920",
   "metadata": {},
   "outputs": [],
   "source": []
  }
 ],
 "metadata": {
  "kernelspec": {
   "display_name": "Python 3 (ipykernel)",
   "language": "python",
   "name": "python3"
  },
  "language_info": {
   "codemirror_mode": {
    "name": "ipython",
    "version": 3
   },
   "file_extension": ".py",
   "mimetype": "text/x-python",
   "name": "python",
   "nbconvert_exporter": "python",
   "pygments_lexer": "ipython3",
   "version": "3.10.12"
  }
 },
 "nbformat": 4,
 "nbformat_minor": 5
}
